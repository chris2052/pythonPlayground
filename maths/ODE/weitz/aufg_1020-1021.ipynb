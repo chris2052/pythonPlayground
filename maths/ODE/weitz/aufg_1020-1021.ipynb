{
 "cells": [
  {
   "cell_type": "markdown",
   "id": "d8874bb1",
   "metadata": {},
   "source": [
    "# Aufgabe 1020"
   ]
  },
  {
   "cell_type": "code",
   "execution_count": 46,
   "id": "f3496372",
   "metadata": {},
   "outputs": [],
   "source": [
    "from sympy import *"
   ]
  },
  {
   "cell_type": "code",
   "execution_count": 47,
   "id": "1f4c84c3",
   "metadata": {},
   "outputs": [],
   "source": [
    "y = Function(\"y\")\n",
    "x = symbols(\"x\")"
   ]
  },
  {
   "cell_type": "code",
   "execution_count": 48,
   "id": "1c0964d2",
   "metadata": {},
   "outputs": [
    {
     "data": {
      "text/latex": [
       "$\\displaystyle y{\\left(x \\right)} = 20 - 19 e^{- \\frac{x}{10}}$"
      ],
      "text/plain": [
       "Eq(y(x), 20 - 19*exp(-x/10))"
      ]
     },
     "execution_count": 48,
     "metadata": {},
     "output_type": "execute_result"
    }
   ],
   "source": [
    "dsolve(diff(y(x), x) + (y(x) - 20) / 10, ics = {y(0): 1})"
   ]
  },
  {
   "cell_type": "markdown",
   "id": "b816d306",
   "metadata": {},
   "source": [
    "# Aufgabe 1021"
   ]
  },
  {
   "cell_type": "markdown",
   "id": "8b8add5b",
   "metadata": {},
   "source": [
    "Loesen der DGL"
   ]
  },
  {
   "cell_type": "code",
   "execution_count": 49,
   "id": "9e2296ab",
   "metadata": {},
   "outputs": [
    {
     "data": {
      "text/latex": [
       "$\\displaystyle y{\\left(x \\right)} = C_{1} e^{x^{2}}$"
      ],
      "text/plain": [
       "Eq(y(x), C1*exp(x**2))"
      ]
     },
     "execution_count": 49,
     "metadata": {},
     "output_type": "execute_result"
    }
   ],
   "source": [
    "res = dsolve(diff(y(x), x) - 2*x*y(x))\n",
    "res"
   ]
  },
  {
   "cell_type": "markdown",
   "id": "6943aa39",
   "metadata": {},
   "source": [
    "Einbinden der Anfwangswertbedingungen:"
   ]
  },
  {
   "cell_type": "code",
   "execution_count": 50,
   "id": "edc35050",
   "metadata": {},
   "outputs": [
    {
     "data": {
      "text/plain": [
       "[1]"
      ]
     },
     "execution_count": 50,
     "metadata": {},
     "output_type": "execute_result"
    }
   ],
   "source": [
    "solve(res.rhs.subs(x, 0) - 1)"
   ]
  },
  {
   "cell_type": "code",
   "execution_count": 51,
   "id": "e412acc7",
   "metadata": {},
   "outputs": [
    {
     "data": {
      "text/plain": [
       "(1, 2*x*exp(x**2), 2*x*exp(x**2))"
      ]
     },
     "execution_count": 51,
     "metadata": {},
     "output_type": "execute_result"
    }
   ],
   "source": [
    "f = lambda x: exp(x**2)\n",
    "f(0), 2*x*f(x), diff(f(x), x)"
   ]
  },
  {
   "cell_type": "code",
   "execution_count": 52,
   "id": "6e1231bf",
   "metadata": {},
   "outputs": [
    {
     "data": {
      "text/latex": [
       "$\\displaystyle y{\\left(x \\right)} = e^{x^{2}}$"
      ],
      "text/plain": [
       "Eq(y(x), exp(x**2))"
      ]
     },
     "execution_count": 52,
     "metadata": {},
     "output_type": "execute_result"
    }
   ],
   "source": [
    "dsolve(diff(y(x), x) - 2*x*y(x), ics = {y(0): 1})"
   ]
  },
  {
   "cell_type": "code",
   "execution_count": 53,
   "id": "94387cf0",
   "metadata": {},
   "outputs": [
    {
     "data": {
      "text/latex": [
       "$\\displaystyle y{\\left(x \\right)} = - \\frac{1}{x + \\frac{1}{2}}$"
      ],
      "text/plain": [
       "Eq(y(x), -1/(x + 1/2))"
      ]
     },
     "execution_count": 53,
     "metadata": {},
     "output_type": "execute_result"
    }
   ],
   "source": [
    "dsolve(diff(y(x), x) - y(x)*y(x), ics = {y(0): -2})"
   ]
  },
  {
   "cell_type": "code",
   "execution_count": 54,
   "id": "28e1a989",
   "metadata": {},
   "outputs": [
    {
     "data": {
      "text/latex": [
       "$\\displaystyle y{\\left(x \\right)} = \\left(\\left(- x^{2} - 2 x - 2\\right) e^{- x} + 3\\right) e^{x}$"
      ],
      "text/plain": [
       "Eq(y(x), ((-x**2 - 2*x - 2)*exp(-x) + 3)*exp(x))"
      ]
     },
     "execution_count": 54,
     "metadata": {},
     "output_type": "execute_result"
    }
   ],
   "source": [
    "dsolve(diff(y(x), x) - y(x) - x**2, ics = {y(0): 1})"
   ]
  },
  {
   "cell_type": "code",
   "execution_count": 55,
   "id": "9e0f6d6e",
   "metadata": {},
   "outputs": [
    {
     "data": {
      "text/latex": [
       "$\\displaystyle y{\\left(x \\right)} = C_{1} e^{- x} + C_{2} e^{x} - x$"
      ],
      "text/plain": [
       "Eq(y(x), C1*exp(-x) + C2*exp(x) - x)"
      ]
     },
     "execution_count": 55,
     "metadata": {},
     "output_type": "execute_result"
    }
   ],
   "source": [
    "dsolve(diff(y(x), x, 2) - y(x) - x)"
   ]
  },
  {
   "cell_type": "code",
   "execution_count": 56,
   "id": "4dedb783",
   "metadata": {},
   "outputs": [
    {
     "data": {
      "text/latex": [
       "$\\displaystyle y{\\left(x \\right)} = - x + e^{x}$"
      ],
      "text/plain": [
       "Eq(y(x), -x + exp(x))"
      ]
     },
     "execution_count": 56,
     "metadata": {},
     "output_type": "execute_result"
    }
   ],
   "source": [
    "dsolve(diff(y(x), x, 2) - y(x) - x, ics = {y(x).subs(x, 0): 1, y(x).diff(x).subs(x, 0): 0})"
   ]
  },
  {
   "cell_type": "code",
   "execution_count": 57,
   "id": "2439c95c",
   "metadata": {},
   "outputs": [
    {
     "data": {
      "text/latex": [
       "$\\displaystyle y{\\left(x \\right)} = - \\frac{x^{2}}{2} - x + e^{x}$"
      ],
      "text/plain": [
       "Eq(y(x), -x**2/2 - x + exp(x))"
      ]
     },
     "execution_count": 57,
     "metadata": {},
     "output_type": "execute_result"
    }
   ],
   "source": [
    "dsolve(diff(y(x), x, 2) - diff(y(x), x) - x, ics = {y(x).subs(x, 0): 1, y(x).diff(x).subs(x, 0): 0})"
   ]
  },
  {
   "cell_type": "code",
   "execution_count": 58,
   "id": "2d870f6c",
   "metadata": {},
   "outputs": [
    {
     "data": {
      "text/latex": [
       "$\\displaystyle y{\\left(x \\right)} = \\sin{\\left(x \\right)}$"
      ],
      "text/plain": [
       "Eq(y(x), sin(x))"
      ]
     },
     "execution_count": 58,
     "metadata": {},
     "output_type": "execute_result"
    }
   ],
   "source": [
    "dsolve(diff(y(x), x, 2) + y(x), ics = {y(x).subs(x, 0): 0, y(x).diff(x).subs(x, 0): 1})"
   ]
  },
  {
   "cell_type": "code",
   "execution_count": 59,
   "id": "4af23205",
   "metadata": {},
   "outputs": [
    {
     "data": {
      "text/latex": [
       "$\\displaystyle y{\\left(x \\right)} = \\frac{x^{3}}{3} + \\frac{2}{3}$"
      ],
      "text/plain": [
       "Eq(y(x), x**3/3 + 2/3)"
      ]
     },
     "execution_count": 59,
     "metadata": {},
     "output_type": "execute_result"
    }
   ],
   "source": [
    "dsolve(diff(y(x), x, 1) - x**2, ics = {y(x).subs(x, 1): 1})"
   ]
  },
  {
   "cell_type": "code",
   "execution_count": null,
   "id": "7324f653",
   "metadata": {},
   "outputs": [],
   "source": []
  }
 ],
 "metadata": {
  "kernelspec": {
   "display_name": "Python [conda env:statics] *",
   "language": "python",
   "name": "conda-env-statics-py"
  },
  "language_info": {
   "codemirror_mode": {
    "name": "ipython",
    "version": 3
   },
   "file_extension": ".py",
   "mimetype": "text/x-python",
   "name": "python",
   "nbconvert_exporter": "python",
   "pygments_lexer": "ipython3",
   "version": "3.8.12"
  }
 },
 "nbformat": 4,
 "nbformat_minor": 5
}
