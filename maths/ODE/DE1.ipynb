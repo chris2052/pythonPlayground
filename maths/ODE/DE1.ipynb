{
 "cells": [
  {
   "cell_type": "markdown",
   "id": "0796cb8b",
   "metadata": {},
   "source": [
    "# Differential equations, a tourist's guide | DE1\n",
    "\n",
    "https://www.youtube.com/watch?v=p_di4Zn4wz4"
   ]
  },
  {
   "cell_type": "code",
   "execution_count": 12,
   "id": "50312b21",
   "metadata": {},
   "outputs": [],
   "source": [
    "import numpy as np"
   ]
  },
  {
   "cell_type": "code",
   "execution_count": 45,
   "id": "51f81a07",
   "metadata": {},
   "outputs": [],
   "source": [
    "# physical constants\n",
    "g = 9.81\n",
    "L = 2\n",
    "mu = 0.1\n",
    "\n",
    "THETA_0 = np.pi/3 # 60 degrees\n",
    "THETA_D_0 = 0 # no initial angular velocity"
   ]
  },
  {
   "cell_type": "code",
   "execution_count": 46,
   "id": "a832a9d2",
   "metadata": {},
   "outputs": [],
   "source": [
    "# definition of ODE\n",
    "def get_theta_dd(theta, theta_d):\n",
    "    return -mu*theta_d - (g/L)*np.sin(theta)"
   ]
  },
  {
   "cell_type": "code",
   "execution_count": 47,
   "id": "2f529706",
   "metadata": {},
   "outputs": [],
   "source": [
    "# solution to the differential equation\n",
    "def theta(t):\n",
    "    # initialize changin values\n",
    "    theta = THETA_0\n",
    "    theta_d = THETA_D_0\n",
    "    delta_t = 0.01 # some time step\n",
    "    for time in np.arange(0, t, delta_t):\n",
    "        theta_dd = get_theta_dd(theta, theta_d)\n",
    "        theta += theta_d*delta_t\n",
    "        theta_d += theta_dd*delta_t\n",
    "    return theta"
   ]
  }
 ],
 "metadata": {
  "kernelspec": {
   "display_name": "Python [conda env:statics] *",
   "language": "python",
   "name": "conda-env-statics-py"
  },
  "language_info": {
   "codemirror_mode": {
    "name": "ipython",
    "version": 3
   },
   "file_extension": ".py",
   "mimetype": "text/x-python",
   "name": "python",
   "nbconvert_exporter": "python",
   "pygments_lexer": "ipython3",
   "version": "3.8.12"
  }
 },
 "nbformat": 4,
 "nbformat_minor": 5
}
